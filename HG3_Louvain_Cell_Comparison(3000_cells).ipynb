{
 "cells": [
  {
   "cell_type": "code",
   "execution_count": 1,
   "metadata": {},
   "outputs": [
    {
     "name": "stderr",
     "output_type": "stream",
     "text": [
      "/home/ehamilton/miniconda3/envs/singlecellanalysis/lib/python3.6/site-packages/h5py/__init__.py:36: FutureWarning: Conversion of the second argument of issubdtype from `float` to `np.floating` is deprecated. In future, it will be treated as `np.float64 == np.dtype(float).type`.\n",
      "  from ._conv import register_converters as _register_converters\n"
     ]
    },
    {
     "name": "stdout",
     "output_type": "stream",
     "text": [
      "scanpy==1.0.4 anndata==0.6.1 numpy==1.14.3 scipy==1.1.0 pandas==0.23.0 scikit-learn==0.19.1 statsmodels==0.9.0 python-igraph==0.7.1 louvain==0.6.1 \n"
     ]
    }
   ],
   "source": [
    "import numpy as np\n",
    "import pandas as pd\n",
    "import scanpy.api as sc\n",
    "import matplotlib.pyplot as plt\n",
    "%matplotlib notebook\n",
    "import timeit\n",
    "start_time=timeit.default_timer()\n",
    "\n",
    "sc.settings.verbosity = 3  # verbosity: errors (0), warnings (1), info (2), hints (3)\n",
    "sc.settings.set_figure_params(dpi=80)  # low dpi (dots per inch) yields small inline figures\n",
    "sc.logging.print_versions()\n",
    "results_file = './write/pmbc3k.h5ad'"
   ]
  },
  {
   "cell_type": "code",
   "execution_count": 2,
   "metadata": {},
   "outputs": [],
   "source": [
    "Data1 = pd.read_csv('NewDownsizedCellList3K_1.csv', sep='\\t')"
   ]
  },
  {
   "cell_type": "code",
   "execution_count": 3,
   "metadata": {},
   "outputs": [],
   "source": [
    "Data2 = pd.read_csv('NewDownsizedCellList3K_2.csv', sep='\\t')"
   ]
  },
  {
   "cell_type": "code",
   "execution_count": 4,
   "metadata": {},
   "outputs": [],
   "source": [
    "Data3 = pd.read_csv('NewDownsizedCellList3K_3.csv', sep='\\t')"
   ]
  },
  {
   "cell_type": "code",
   "execution_count": 5,
   "metadata": {},
   "outputs": [],
   "source": [
    "Data4 = pd.read_csv('NewDownsizedCellList3K_4.csv', sep='\\t')"
   ]
  },
  {
   "cell_type": "code",
   "execution_count": 6,
   "metadata": {},
   "outputs": [],
   "source": [
    "Data5 = pd.read_csv('NewDownsizedCellList3K_5.csv', sep='\\t')"
   ]
  },
  {
   "cell_type": "code",
   "execution_count": 7,
   "metadata": {},
   "outputs": [],
   "source": [
    "Orig = pd.read_csv('NewCellList.csv', sep='\\t')"
   ]
  },
  {
   "cell_type": "code",
   "execution_count": 8,
   "metadata": {},
   "outputs": [
    {
     "data": {
      "text/html": [
       "<div>\n",
       "<style scoped>\n",
       "    .dataframe tbody tr th:only-of-type {\n",
       "        vertical-align: middle;\n",
       "    }\n",
       "\n",
       "    .dataframe tbody tr th {\n",
       "        vertical-align: top;\n",
       "    }\n",
       "\n",
       "    .dataframe thead th {\n",
       "        text-align: right;\n",
       "    }\n",
       "</style>\n",
       "<table border=\"1\" class=\"dataframe\">\n",
       "  <thead>\n",
       "    <tr style=\"text-align: right;\">\n",
       "      <th></th>\n",
       "      <th>index</th>\n",
       "      <th>n_genes_x</th>\n",
       "      <th>percent_mito_x</th>\n",
       "      <th>n_counts_x</th>\n",
       "      <th>louvain_x</th>\n",
       "      <th>n_genes_y</th>\n",
       "      <th>percent_mito_y</th>\n",
       "      <th>n_counts_y</th>\n",
       "      <th>louvain_y</th>\n",
       "    </tr>\n",
       "  </thead>\n",
       "  <tbody>\n",
       "    <tr>\n",
       "      <th>0</th>\n",
       "      <td>CACTCCAGTTTACTCT-1</td>\n",
       "      <td>3565</td>\n",
       "      <td>0.035470</td>\n",
       "      <td>16831.0</td>\n",
       "      <td>0</td>\n",
       "      <td>3565</td>\n",
       "      <td>0.035470</td>\n",
       "      <td>16831.0</td>\n",
       "      <td>1</td>\n",
       "    </tr>\n",
       "    <tr>\n",
       "      <th>1</th>\n",
       "      <td>TGCGGGTCATAGGATA-1</td>\n",
       "      <td>2116</td>\n",
       "      <td>0.035388</td>\n",
       "      <td>8534.0</td>\n",
       "      <td>1</td>\n",
       "      <td>2116</td>\n",
       "      <td>0.035388</td>\n",
       "      <td>8534.0</td>\n",
       "      <td>0</td>\n",
       "    </tr>\n",
       "    <tr>\n",
       "      <th>2</th>\n",
       "      <td>CAAGTTGGTTACAGAA-1</td>\n",
       "      <td>3267</td>\n",
       "      <td>0.045083</td>\n",
       "      <td>19187.0</td>\n",
       "      <td>0</td>\n",
       "      <td>3267</td>\n",
       "      <td>0.045083</td>\n",
       "      <td>19187.0</td>\n",
       "      <td>1</td>\n",
       "    </tr>\n",
       "    <tr>\n",
       "      <th>3</th>\n",
       "      <td>ACGCCGATCCGCGCAA-1</td>\n",
       "      <td>2675</td>\n",
       "      <td>0.037018</td>\n",
       "      <td>13345.0</td>\n",
       "      <td>1</td>\n",
       "      <td>2675</td>\n",
       "      <td>0.037018</td>\n",
       "      <td>13345.0</td>\n",
       "      <td>0</td>\n",
       "    </tr>\n",
       "    <tr>\n",
       "      <th>4</th>\n",
       "      <td>GTGTGCGGTAAACACA-1</td>\n",
       "      <td>738</td>\n",
       "      <td>0.021944</td>\n",
       "      <td>2552.0</td>\n",
       "      <td>0</td>\n",
       "      <td>738</td>\n",
       "      <td>0.021944</td>\n",
       "      <td>2552.0</td>\n",
       "      <td>0</td>\n",
       "    </tr>\n",
       "    <tr>\n",
       "      <th>5</th>\n",
       "      <td>TAGTTGGTCTTCATGT-1</td>\n",
       "      <td>2901</td>\n",
       "      <td>0.024896</td>\n",
       "      <td>12251.0</td>\n",
       "      <td>0</td>\n",
       "      <td>2901</td>\n",
       "      <td>0.024896</td>\n",
       "      <td>12251.0</td>\n",
       "      <td>0</td>\n",
       "    </tr>\n",
       "    <tr>\n",
       "      <th>6</th>\n",
       "      <td>CTAGTGAGTACTCAAC-1</td>\n",
       "      <td>1740</td>\n",
       "      <td>0.074205</td>\n",
       "      <td>6765.0</td>\n",
       "      <td>1</td>\n",
       "      <td>1740</td>\n",
       "      <td>0.074205</td>\n",
       "      <td>6765.0</td>\n",
       "      <td>0</td>\n",
       "    </tr>\n",
       "    <tr>\n",
       "      <th>7</th>\n",
       "      <td>TGGCTGGAGCCACCTG-1</td>\n",
       "      <td>2405</td>\n",
       "      <td>0.044522</td>\n",
       "      <td>9748.0</td>\n",
       "      <td>0</td>\n",
       "      <td>2405</td>\n",
       "      <td>0.044522</td>\n",
       "      <td>9748.0</td>\n",
       "      <td>0</td>\n",
       "    </tr>\n",
       "    <tr>\n",
       "      <th>8</th>\n",
       "      <td>GTACTTTGTCGAAAGC-1</td>\n",
       "      <td>2748</td>\n",
       "      <td>0.033075</td>\n",
       "      <td>11096.0</td>\n",
       "      <td>0</td>\n",
       "      <td>2748</td>\n",
       "      <td>0.033075</td>\n",
       "      <td>11096.0</td>\n",
       "      <td>0</td>\n",
       "    </tr>\n",
       "    <tr>\n",
       "      <th>9</th>\n",
       "      <td>TTCTACATCCTTTCGG-1</td>\n",
       "      <td>2408</td>\n",
       "      <td>0.048692</td>\n",
       "      <td>9139.0</td>\n",
       "      <td>3</td>\n",
       "      <td>2408</td>\n",
       "      <td>0.048692</td>\n",
       "      <td>9139.0</td>\n",
       "      <td>3</td>\n",
       "    </tr>\n",
       "    <tr>\n",
       "      <th>10</th>\n",
       "      <td>TGCACCTGTTGTACAC-1</td>\n",
       "      <td>1812</td>\n",
       "      <td>0.032019</td>\n",
       "      <td>7027.0</td>\n",
       "      <td>0</td>\n",
       "      <td>1812</td>\n",
       "      <td>0.032019</td>\n",
       "      <td>7027.0</td>\n",
       "      <td>0</td>\n",
       "    </tr>\n",
       "    <tr>\n",
       "      <th>11</th>\n",
       "      <td>CATATTCAGACAATAC-1</td>\n",
       "      <td>3054</td>\n",
       "      <td>0.044840</td>\n",
       "      <td>13537.0</td>\n",
       "      <td>0</td>\n",
       "      <td>3054</td>\n",
       "      <td>0.044840</td>\n",
       "      <td>13537.0</td>\n",
       "      <td>0</td>\n",
       "    </tr>\n",
       "    <tr>\n",
       "      <th>12</th>\n",
       "      <td>CAGTCCTGTCGCATCG-1</td>\n",
       "      <td>2024</td>\n",
       "      <td>0.038913</td>\n",
       "      <td>8352.0</td>\n",
       "      <td>0</td>\n",
       "      <td>2024</td>\n",
       "      <td>0.038913</td>\n",
       "      <td>8352.0</td>\n",
       "      <td>0</td>\n",
       "    </tr>\n",
       "    <tr>\n",
       "      <th>13</th>\n",
       "      <td>GGGCATCAGCTGAACG-1</td>\n",
       "      <td>2928</td>\n",
       "      <td>0.038807</td>\n",
       "      <td>15023.0</td>\n",
       "      <td>0</td>\n",
       "      <td>2928</td>\n",
       "      <td>0.038807</td>\n",
       "      <td>15023.0</td>\n",
       "      <td>0</td>\n",
       "    </tr>\n",
       "    <tr>\n",
       "      <th>14</th>\n",
       "      <td>ACGGAGAGTCCAGTTA-1</td>\n",
       "      <td>1547</td>\n",
       "      <td>0.042373</td>\n",
       "      <td>5782.0</td>\n",
       "      <td>0</td>\n",
       "      <td>1547</td>\n",
       "      <td>0.042373</td>\n",
       "      <td>5782.0</td>\n",
       "      <td>1</td>\n",
       "    </tr>\n",
       "    <tr>\n",
       "      <th>15</th>\n",
       "      <td>TTATGCTGTAAGAGGA-1</td>\n",
       "      <td>1135</td>\n",
       "      <td>0.077916</td>\n",
       "      <td>4261.0</td>\n",
       "      <td>0</td>\n",
       "      <td>1135</td>\n",
       "      <td>0.077916</td>\n",
       "      <td>4261.0</td>\n",
       "      <td>1</td>\n",
       "    </tr>\n",
       "    <tr>\n",
       "      <th>16</th>\n",
       "      <td>CGTTAGAAGTTGAGAT-1</td>\n",
       "      <td>2333</td>\n",
       "      <td>0.041526</td>\n",
       "      <td>9464.0</td>\n",
       "      <td>0</td>\n",
       "      <td>2333</td>\n",
       "      <td>0.041526</td>\n",
       "      <td>9464.0</td>\n",
       "      <td>0</td>\n",
       "    </tr>\n",
       "    <tr>\n",
       "      <th>17</th>\n",
       "      <td>AAGGCAGTCCATGAGT-1</td>\n",
       "      <td>2222</td>\n",
       "      <td>0.029903</td>\n",
       "      <td>10534.0</td>\n",
       "      <td>0</td>\n",
       "      <td>2222</td>\n",
       "      <td>0.029903</td>\n",
       "      <td>10534.0</td>\n",
       "      <td>1</td>\n",
       "    </tr>\n",
       "    <tr>\n",
       "      <th>18</th>\n",
       "      <td>GGAAAGCCATCCTAGA-1</td>\n",
       "      <td>2787</td>\n",
       "      <td>0.034653</td>\n",
       "      <td>12957.0</td>\n",
       "      <td>0</td>\n",
       "      <td>2787</td>\n",
       "      <td>0.034653</td>\n",
       "      <td>12957.0</td>\n",
       "      <td>1</td>\n",
       "    </tr>\n",
       "    <tr>\n",
       "      <th>19</th>\n",
       "      <td>CACATAGGTAAAGTCA-1</td>\n",
       "      <td>2460</td>\n",
       "      <td>0.032653</td>\n",
       "      <td>13138.0</td>\n",
       "      <td>0</td>\n",
       "      <td>2460</td>\n",
       "      <td>0.032653</td>\n",
       "      <td>13138.0</td>\n",
       "      <td>0</td>\n",
       "    </tr>\n",
       "    <tr>\n",
       "      <th>20</th>\n",
       "      <td>TGCGTGGAGCTCAACT-1</td>\n",
       "      <td>2410</td>\n",
       "      <td>0.042960</td>\n",
       "      <td>9730.0</td>\n",
       "      <td>1</td>\n",
       "      <td>2410</td>\n",
       "      <td>0.042960</td>\n",
       "      <td>9730.0</td>\n",
       "      <td>0</td>\n",
       "    </tr>\n",
       "    <tr>\n",
       "      <th>21</th>\n",
       "      <td>CTCTAATTCAGCAACT-1</td>\n",
       "      <td>2912</td>\n",
       "      <td>0.039857</td>\n",
       "      <td>15079.0</td>\n",
       "      <td>0</td>\n",
       "      <td>2912</td>\n",
       "      <td>0.039857</td>\n",
       "      <td>15079.0</td>\n",
       "      <td>0</td>\n",
       "    </tr>\n",
       "    <tr>\n",
       "      <th>22</th>\n",
       "      <td>CCTTCCCGTGTGGTTT-1</td>\n",
       "      <td>2853</td>\n",
       "      <td>0.033534</td>\n",
       "      <td>15775.0</td>\n",
       "      <td>0</td>\n",
       "      <td>2853</td>\n",
       "      <td>0.033534</td>\n",
       "      <td>15775.0</td>\n",
       "      <td>1</td>\n",
       "    </tr>\n",
       "    <tr>\n",
       "      <th>23</th>\n",
       "      <td>CTGGTCTGTTGTCTTT-1</td>\n",
       "      <td>2546</td>\n",
       "      <td>0.040988</td>\n",
       "      <td>9393.0</td>\n",
       "      <td>3</td>\n",
       "      <td>2546</td>\n",
       "      <td>0.040988</td>\n",
       "      <td>9393.0</td>\n",
       "      <td>3</td>\n",
       "    </tr>\n",
       "    <tr>\n",
       "      <th>24</th>\n",
       "      <td>GGAACTTCAAGAGTCG-1</td>\n",
       "      <td>1255</td>\n",
       "      <td>0.069089</td>\n",
       "      <td>3908.0</td>\n",
       "      <td>0</td>\n",
       "      <td>1255</td>\n",
       "      <td>0.069089</td>\n",
       "      <td>3908.0</td>\n",
       "      <td>0</td>\n",
       "    </tr>\n",
       "    <tr>\n",
       "      <th>25</th>\n",
       "      <td>GAACCTAAGGGAACGG-1</td>\n",
       "      <td>1572</td>\n",
       "      <td>0.056882</td>\n",
       "      <td>5907.0</td>\n",
       "      <td>0</td>\n",
       "      <td>1572</td>\n",
       "      <td>0.056882</td>\n",
       "      <td>5907.0</td>\n",
       "      <td>0</td>\n",
       "    </tr>\n",
       "    <tr>\n",
       "      <th>26</th>\n",
       "      <td>TAGTGGTGTTCGAATC-1</td>\n",
       "      <td>3507</td>\n",
       "      <td>0.027719</td>\n",
       "      <td>19734.0</td>\n",
       "      <td>0</td>\n",
       "      <td>3507</td>\n",
       "      <td>0.027719</td>\n",
       "      <td>19734.0</td>\n",
       "      <td>1</td>\n",
       "    </tr>\n",
       "    <tr>\n",
       "      <th>27</th>\n",
       "      <td>GGTGAAGGTCGCTTTC-1</td>\n",
       "      <td>1763</td>\n",
       "      <td>0.051399</td>\n",
       "      <td>6790.0</td>\n",
       "      <td>4</td>\n",
       "      <td>1763</td>\n",
       "      <td>0.051399</td>\n",
       "      <td>6790.0</td>\n",
       "      <td>4</td>\n",
       "    </tr>\n",
       "    <tr>\n",
       "      <th>28</th>\n",
       "      <td>CTGAAACCAGGGATTG-1</td>\n",
       "      <td>2310</td>\n",
       "      <td>0.043407</td>\n",
       "      <td>11058.0</td>\n",
       "      <td>1</td>\n",
       "      <td>2310</td>\n",
       "      <td>0.043407</td>\n",
       "      <td>11058.0</td>\n",
       "      <td>0</td>\n",
       "    </tr>\n",
       "    <tr>\n",
       "      <th>29</th>\n",
       "      <td>TGCTGCTCACGTGAGA-1</td>\n",
       "      <td>2794</td>\n",
       "      <td>0.037758</td>\n",
       "      <td>14487.0</td>\n",
       "      <td>1</td>\n",
       "      <td>2794</td>\n",
       "      <td>0.037758</td>\n",
       "      <td>14487.0</td>\n",
       "      <td>0</td>\n",
       "    </tr>\n",
       "    <tr>\n",
       "      <th>...</th>\n",
       "      <td>...</td>\n",
       "      <td>...</td>\n",
       "      <td>...</td>\n",
       "      <td>...</td>\n",
       "      <td>...</td>\n",
       "      <td>...</td>\n",
       "      <td>...</td>\n",
       "      <td>...</td>\n",
       "      <td>...</td>\n",
       "    </tr>\n",
       "    <tr>\n",
       "      <th>2970</th>\n",
       "      <td>AGCGTCGGTCTACCTC-1</td>\n",
       "      <td>1760</td>\n",
       "      <td>0.036869</td>\n",
       "      <td>6184.0</td>\n",
       "      <td>0</td>\n",
       "      <td>1760</td>\n",
       "      <td>0.036869</td>\n",
       "      <td>6184.0</td>\n",
       "      <td>0</td>\n",
       "    </tr>\n",
       "    <tr>\n",
       "      <th>2971</th>\n",
       "      <td>TTCGAAGGTAAGAGAG-1</td>\n",
       "      <td>3638</td>\n",
       "      <td>0.030574</td>\n",
       "      <td>19788.0</td>\n",
       "      <td>0</td>\n",
       "      <td>3638</td>\n",
       "      <td>0.030574</td>\n",
       "      <td>19788.0</td>\n",
       "      <td>1</td>\n",
       "    </tr>\n",
       "    <tr>\n",
       "      <th>2972</th>\n",
       "      <td>TGTGTTTCACAGGTTT-1</td>\n",
       "      <td>1851</td>\n",
       "      <td>0.013921</td>\n",
       "      <td>8620.0</td>\n",
       "      <td>1</td>\n",
       "      <td>1851</td>\n",
       "      <td>0.013921</td>\n",
       "      <td>8620.0</td>\n",
       "      <td>0</td>\n",
       "    </tr>\n",
       "    <tr>\n",
       "      <th>2973</th>\n",
       "      <td>TACTTACCAGTCACTA-1</td>\n",
       "      <td>2622</td>\n",
       "      <td>0.038138</td>\n",
       "      <td>11773.0</td>\n",
       "      <td>0</td>\n",
       "      <td>2622</td>\n",
       "      <td>0.038138</td>\n",
       "      <td>11773.0</td>\n",
       "      <td>1</td>\n",
       "    </tr>\n",
       "    <tr>\n",
       "      <th>2974</th>\n",
       "      <td>AGTTGGTAGTGTGAAT-1</td>\n",
       "      <td>891</td>\n",
       "      <td>0.023609</td>\n",
       "      <td>2372.0</td>\n",
       "      <td>0</td>\n",
       "      <td>891</td>\n",
       "      <td>0.023609</td>\n",
       "      <td>2372.0</td>\n",
       "      <td>0</td>\n",
       "    </tr>\n",
       "    <tr>\n",
       "      <th>2975</th>\n",
       "      <td>CGAGCCACAATCTACG-1</td>\n",
       "      <td>1358</td>\n",
       "      <td>0.039869</td>\n",
       "      <td>5819.0</td>\n",
       "      <td>2</td>\n",
       "      <td>1358</td>\n",
       "      <td>0.039869</td>\n",
       "      <td>5819.0</td>\n",
       "      <td>2</td>\n",
       "    </tr>\n",
       "    <tr>\n",
       "      <th>2976</th>\n",
       "      <td>TGAAAGATCACGACTA-1</td>\n",
       "      <td>1058</td>\n",
       "      <td>0.030183</td>\n",
       "      <td>3777.0</td>\n",
       "      <td>2</td>\n",
       "      <td>1058</td>\n",
       "      <td>0.030183</td>\n",
       "      <td>3777.0</td>\n",
       "      <td>2</td>\n",
       "    </tr>\n",
       "    <tr>\n",
       "      <th>2977</th>\n",
       "      <td>TACACGATCACTCCTG-1</td>\n",
       "      <td>2854</td>\n",
       "      <td>0.028357</td>\n",
       "      <td>14141.0</td>\n",
       "      <td>0</td>\n",
       "      <td>2854</td>\n",
       "      <td>0.028357</td>\n",
       "      <td>14141.0</td>\n",
       "      <td>0</td>\n",
       "    </tr>\n",
       "    <tr>\n",
       "      <th>2978</th>\n",
       "      <td>GTACGTACATCGTCGG-1</td>\n",
       "      <td>1223</td>\n",
       "      <td>0.043139</td>\n",
       "      <td>5123.0</td>\n",
       "      <td>2</td>\n",
       "      <td>1223</td>\n",
       "      <td>0.043139</td>\n",
       "      <td>5123.0</td>\n",
       "      <td>2</td>\n",
       "    </tr>\n",
       "    <tr>\n",
       "      <th>2979</th>\n",
       "      <td>AAAGTAGAGGGTATCG-1</td>\n",
       "      <td>1237</td>\n",
       "      <td>0.046340</td>\n",
       "      <td>2978.0</td>\n",
       "      <td>0</td>\n",
       "      <td>1237</td>\n",
       "      <td>0.046340</td>\n",
       "      <td>2978.0</td>\n",
       "      <td>0</td>\n",
       "    </tr>\n",
       "    <tr>\n",
       "      <th>2980</th>\n",
       "      <td>CTCAGAATCATGCTCC-1</td>\n",
       "      <td>2138</td>\n",
       "      <td>0.042332</td>\n",
       "      <td>7016.0</td>\n",
       "      <td>3</td>\n",
       "      <td>2138</td>\n",
       "      <td>0.042332</td>\n",
       "      <td>7016.0</td>\n",
       "      <td>3</td>\n",
       "    </tr>\n",
       "    <tr>\n",
       "      <th>2981</th>\n",
       "      <td>TCAATCTAGTCCTCCT-1</td>\n",
       "      <td>1843</td>\n",
       "      <td>0.045131</td>\n",
       "      <td>7999.0</td>\n",
       "      <td>0</td>\n",
       "      <td>1843</td>\n",
       "      <td>0.045131</td>\n",
       "      <td>7999.0</td>\n",
       "      <td>1</td>\n",
       "    </tr>\n",
       "    <tr>\n",
       "      <th>2982</th>\n",
       "      <td>CATGACAAGCGTAGTG-1</td>\n",
       "      <td>3188</td>\n",
       "      <td>0.038958</td>\n",
       "      <td>15812.0</td>\n",
       "      <td>0</td>\n",
       "      <td>3188</td>\n",
       "      <td>0.038958</td>\n",
       "      <td>15812.0</td>\n",
       "      <td>1</td>\n",
       "    </tr>\n",
       "    <tr>\n",
       "      <th>2983</th>\n",
       "      <td>GACTGCGTCAAGGTAA-1</td>\n",
       "      <td>3026</td>\n",
       "      <td>0.038100</td>\n",
       "      <td>15643.0</td>\n",
       "      <td>0</td>\n",
       "      <td>3026</td>\n",
       "      <td>0.038100</td>\n",
       "      <td>15643.0</td>\n",
       "      <td>1</td>\n",
       "    </tr>\n",
       "    <tr>\n",
       "      <th>2984</th>\n",
       "      <td>GACGGCTTCGATAGAA-1</td>\n",
       "      <td>2788</td>\n",
       "      <td>0.044076</td>\n",
       "      <td>13159.0</td>\n",
       "      <td>0</td>\n",
       "      <td>2788</td>\n",
       "      <td>0.044076</td>\n",
       "      <td>13159.0</td>\n",
       "      <td>1</td>\n",
       "    </tr>\n",
       "    <tr>\n",
       "      <th>2985</th>\n",
       "      <td>CGGTTAAAGGATGGTC-1</td>\n",
       "      <td>1933</td>\n",
       "      <td>0.037748</td>\n",
       "      <td>8954.0</td>\n",
       "      <td>2</td>\n",
       "      <td>1933</td>\n",
       "      <td>0.037748</td>\n",
       "      <td>8954.0</td>\n",
       "      <td>2</td>\n",
       "    </tr>\n",
       "    <tr>\n",
       "      <th>2986</th>\n",
       "      <td>AACTTTCTCTCGCTTG-1</td>\n",
       "      <td>3435</td>\n",
       "      <td>0.031982</td>\n",
       "      <td>19042.0</td>\n",
       "      <td>0</td>\n",
       "      <td>3435</td>\n",
       "      <td>0.031982</td>\n",
       "      <td>19042.0</td>\n",
       "      <td>1</td>\n",
       "    </tr>\n",
       "    <tr>\n",
       "      <th>2987</th>\n",
       "      <td>ACCGTAATCTACGAGT-1</td>\n",
       "      <td>2486</td>\n",
       "      <td>0.038449</td>\n",
       "      <td>12302.0</td>\n",
       "      <td>1</td>\n",
       "      <td>2486</td>\n",
       "      <td>0.038449</td>\n",
       "      <td>12302.0</td>\n",
       "      <td>0</td>\n",
       "    </tr>\n",
       "    <tr>\n",
       "      <th>2988</th>\n",
       "      <td>ATGTGTGCACATCCAA-1</td>\n",
       "      <td>1476</td>\n",
       "      <td>0.052229</td>\n",
       "      <td>6012.0</td>\n",
       "      <td>2</td>\n",
       "      <td>1476</td>\n",
       "      <td>0.052229</td>\n",
       "      <td>6012.0</td>\n",
       "      <td>0</td>\n",
       "    </tr>\n",
       "    <tr>\n",
       "      <th>2989</th>\n",
       "      <td>GGCCGATTCTCCAACC-1</td>\n",
       "      <td>1896</td>\n",
       "      <td>0.044216</td>\n",
       "      <td>6310.0</td>\n",
       "      <td>3</td>\n",
       "      <td>1896</td>\n",
       "      <td>0.044216</td>\n",
       "      <td>6310.0</td>\n",
       "      <td>3</td>\n",
       "    </tr>\n",
       "    <tr>\n",
       "      <th>2990</th>\n",
       "      <td>ATTACTCAGAAACCAT-1</td>\n",
       "      <td>2479</td>\n",
       "      <td>0.027538</td>\n",
       "      <td>9369.0</td>\n",
       "      <td>0</td>\n",
       "      <td>2479</td>\n",
       "      <td>0.027538</td>\n",
       "      <td>9369.0</td>\n",
       "      <td>1</td>\n",
       "    </tr>\n",
       "    <tr>\n",
       "      <th>2991</th>\n",
       "      <td>AAGGAGCAGGCTAGCA-1</td>\n",
       "      <td>2053</td>\n",
       "      <td>0.049257</td>\n",
       "      <td>13602.0</td>\n",
       "      <td>2</td>\n",
       "      <td>2053</td>\n",
       "      <td>0.049257</td>\n",
       "      <td>13602.0</td>\n",
       "      <td>0</td>\n",
       "    </tr>\n",
       "    <tr>\n",
       "      <th>2992</th>\n",
       "      <td>GGCGACTAGGATATAC-1</td>\n",
       "      <td>2441</td>\n",
       "      <td>0.036789</td>\n",
       "      <td>10438.0</td>\n",
       "      <td>1</td>\n",
       "      <td>2441</td>\n",
       "      <td>0.036789</td>\n",
       "      <td>10438.0</td>\n",
       "      <td>0</td>\n",
       "    </tr>\n",
       "    <tr>\n",
       "      <th>2993</th>\n",
       "      <td>CCTATTATCGTATCAG-1</td>\n",
       "      <td>2395</td>\n",
       "      <td>0.029283</td>\n",
       "      <td>8879.0</td>\n",
       "      <td>0</td>\n",
       "      <td>2395</td>\n",
       "      <td>0.029283</td>\n",
       "      <td>8879.0</td>\n",
       "      <td>0</td>\n",
       "    </tr>\n",
       "    <tr>\n",
       "      <th>2994</th>\n",
       "      <td>TGACGGCAGGCTCTTA-1</td>\n",
       "      <td>979</td>\n",
       "      <td>0.058658</td>\n",
       "      <td>3205.0</td>\n",
       "      <td>0</td>\n",
       "      <td>979</td>\n",
       "      <td>0.058658</td>\n",
       "      <td>3205.0</td>\n",
       "      <td>0</td>\n",
       "    </tr>\n",
       "    <tr>\n",
       "      <th>2995</th>\n",
       "      <td>AGCATACAGTCCAGGA-1</td>\n",
       "      <td>2349</td>\n",
       "      <td>0.040127</td>\n",
       "      <td>9445.0</td>\n",
       "      <td>0</td>\n",
       "      <td>2349</td>\n",
       "      <td>0.040127</td>\n",
       "      <td>9445.0</td>\n",
       "      <td>0</td>\n",
       "    </tr>\n",
       "    <tr>\n",
       "      <th>2996</th>\n",
       "      <td>GGACATTAGTGTTTGC-1</td>\n",
       "      <td>1501</td>\n",
       "      <td>0.053611</td>\n",
       "      <td>5428.0</td>\n",
       "      <td>0</td>\n",
       "      <td>1501</td>\n",
       "      <td>0.053611</td>\n",
       "      <td>5428.0</td>\n",
       "      <td>0</td>\n",
       "    </tr>\n",
       "    <tr>\n",
       "      <th>2997</th>\n",
       "      <td>GGGCATCGTAGCGCTC-1</td>\n",
       "      <td>3223</td>\n",
       "      <td>0.039531</td>\n",
       "      <td>17733.0</td>\n",
       "      <td>0</td>\n",
       "      <td>3223</td>\n",
       "      <td>0.039531</td>\n",
       "      <td>17733.0</td>\n",
       "      <td>0</td>\n",
       "    </tr>\n",
       "    <tr>\n",
       "      <th>2998</th>\n",
       "      <td>CTCGTCAGTCGGATCC-1</td>\n",
       "      <td>2663</td>\n",
       "      <td>0.041770</td>\n",
       "      <td>10893.0</td>\n",
       "      <td>0</td>\n",
       "      <td>2663</td>\n",
       "      <td>0.041770</td>\n",
       "      <td>10893.0</td>\n",
       "      <td>0</td>\n",
       "    </tr>\n",
       "    <tr>\n",
       "      <th>2999</th>\n",
       "      <td>GATCGATCAGTAAGAT-1</td>\n",
       "      <td>2255</td>\n",
       "      <td>0.032692</td>\n",
       "      <td>10400.0</td>\n",
       "      <td>2</td>\n",
       "      <td>2255</td>\n",
       "      <td>0.032692</td>\n",
       "      <td>10400.0</td>\n",
       "      <td>0</td>\n",
       "    </tr>\n",
       "  </tbody>\n",
       "</table>\n",
       "<p>3000 rows × 9 columns</p>\n",
       "</div>"
      ],
      "text/plain": [
       "                   index  n_genes_x  percent_mito_x  n_counts_x  louvain_x  \\\n",
       "0     CACTCCAGTTTACTCT-1       3565        0.035470     16831.0          0   \n",
       "1     TGCGGGTCATAGGATA-1       2116        0.035388      8534.0          1   \n",
       "2     CAAGTTGGTTACAGAA-1       3267        0.045083     19187.0          0   \n",
       "3     ACGCCGATCCGCGCAA-1       2675        0.037018     13345.0          1   \n",
       "4     GTGTGCGGTAAACACA-1        738        0.021944      2552.0          0   \n",
       "5     TAGTTGGTCTTCATGT-1       2901        0.024896     12251.0          0   \n",
       "6     CTAGTGAGTACTCAAC-1       1740        0.074205      6765.0          1   \n",
       "7     TGGCTGGAGCCACCTG-1       2405        0.044522      9748.0          0   \n",
       "8     GTACTTTGTCGAAAGC-1       2748        0.033075     11096.0          0   \n",
       "9     TTCTACATCCTTTCGG-1       2408        0.048692      9139.0          3   \n",
       "10    TGCACCTGTTGTACAC-1       1812        0.032019      7027.0          0   \n",
       "11    CATATTCAGACAATAC-1       3054        0.044840     13537.0          0   \n",
       "12    CAGTCCTGTCGCATCG-1       2024        0.038913      8352.0          0   \n",
       "13    GGGCATCAGCTGAACG-1       2928        0.038807     15023.0          0   \n",
       "14    ACGGAGAGTCCAGTTA-1       1547        0.042373      5782.0          0   \n",
       "15    TTATGCTGTAAGAGGA-1       1135        0.077916      4261.0          0   \n",
       "16    CGTTAGAAGTTGAGAT-1       2333        0.041526      9464.0          0   \n",
       "17    AAGGCAGTCCATGAGT-1       2222        0.029903     10534.0          0   \n",
       "18    GGAAAGCCATCCTAGA-1       2787        0.034653     12957.0          0   \n",
       "19    CACATAGGTAAAGTCA-1       2460        0.032653     13138.0          0   \n",
       "20    TGCGTGGAGCTCAACT-1       2410        0.042960      9730.0          1   \n",
       "21    CTCTAATTCAGCAACT-1       2912        0.039857     15079.0          0   \n",
       "22    CCTTCCCGTGTGGTTT-1       2853        0.033534     15775.0          0   \n",
       "23    CTGGTCTGTTGTCTTT-1       2546        0.040988      9393.0          3   \n",
       "24    GGAACTTCAAGAGTCG-1       1255        0.069089      3908.0          0   \n",
       "25    GAACCTAAGGGAACGG-1       1572        0.056882      5907.0          0   \n",
       "26    TAGTGGTGTTCGAATC-1       3507        0.027719     19734.0          0   \n",
       "27    GGTGAAGGTCGCTTTC-1       1763        0.051399      6790.0          4   \n",
       "28    CTGAAACCAGGGATTG-1       2310        0.043407     11058.0          1   \n",
       "29    TGCTGCTCACGTGAGA-1       2794        0.037758     14487.0          1   \n",
       "...                  ...        ...             ...         ...        ...   \n",
       "2970  AGCGTCGGTCTACCTC-1       1760        0.036869      6184.0          0   \n",
       "2971  TTCGAAGGTAAGAGAG-1       3638        0.030574     19788.0          0   \n",
       "2972  TGTGTTTCACAGGTTT-1       1851        0.013921      8620.0          1   \n",
       "2973  TACTTACCAGTCACTA-1       2622        0.038138     11773.0          0   \n",
       "2974  AGTTGGTAGTGTGAAT-1        891        0.023609      2372.0          0   \n",
       "2975  CGAGCCACAATCTACG-1       1358        0.039869      5819.0          2   \n",
       "2976  TGAAAGATCACGACTA-1       1058        0.030183      3777.0          2   \n",
       "2977  TACACGATCACTCCTG-1       2854        0.028357     14141.0          0   \n",
       "2978  GTACGTACATCGTCGG-1       1223        0.043139      5123.0          2   \n",
       "2979  AAAGTAGAGGGTATCG-1       1237        0.046340      2978.0          0   \n",
       "2980  CTCAGAATCATGCTCC-1       2138        0.042332      7016.0          3   \n",
       "2981  TCAATCTAGTCCTCCT-1       1843        0.045131      7999.0          0   \n",
       "2982  CATGACAAGCGTAGTG-1       3188        0.038958     15812.0          0   \n",
       "2983  GACTGCGTCAAGGTAA-1       3026        0.038100     15643.0          0   \n",
       "2984  GACGGCTTCGATAGAA-1       2788        0.044076     13159.0          0   \n",
       "2985  CGGTTAAAGGATGGTC-1       1933        0.037748      8954.0          2   \n",
       "2986  AACTTTCTCTCGCTTG-1       3435        0.031982     19042.0          0   \n",
       "2987  ACCGTAATCTACGAGT-1       2486        0.038449     12302.0          1   \n",
       "2988  ATGTGTGCACATCCAA-1       1476        0.052229      6012.0          2   \n",
       "2989  GGCCGATTCTCCAACC-1       1896        0.044216      6310.0          3   \n",
       "2990  ATTACTCAGAAACCAT-1       2479        0.027538      9369.0          0   \n",
       "2991  AAGGAGCAGGCTAGCA-1       2053        0.049257     13602.0          2   \n",
       "2992  GGCGACTAGGATATAC-1       2441        0.036789     10438.0          1   \n",
       "2993  CCTATTATCGTATCAG-1       2395        0.029283      8879.0          0   \n",
       "2994  TGACGGCAGGCTCTTA-1        979        0.058658      3205.0          0   \n",
       "2995  AGCATACAGTCCAGGA-1       2349        0.040127      9445.0          0   \n",
       "2996  GGACATTAGTGTTTGC-1       1501        0.053611      5428.0          0   \n",
       "2997  GGGCATCGTAGCGCTC-1       3223        0.039531     17733.0          0   \n",
       "2998  CTCGTCAGTCGGATCC-1       2663        0.041770     10893.0          0   \n",
       "2999  GATCGATCAGTAAGAT-1       2255        0.032692     10400.0          2   \n",
       "\n",
       "      n_genes_y  percent_mito_y  n_counts_y  louvain_y  \n",
       "0          3565        0.035470     16831.0          1  \n",
       "1          2116        0.035388      8534.0          0  \n",
       "2          3267        0.045083     19187.0          1  \n",
       "3          2675        0.037018     13345.0          0  \n",
       "4           738        0.021944      2552.0          0  \n",
       "5          2901        0.024896     12251.0          0  \n",
       "6          1740        0.074205      6765.0          0  \n",
       "7          2405        0.044522      9748.0          0  \n",
       "8          2748        0.033075     11096.0          0  \n",
       "9          2408        0.048692      9139.0          3  \n",
       "10         1812        0.032019      7027.0          0  \n",
       "11         3054        0.044840     13537.0          0  \n",
       "12         2024        0.038913      8352.0          0  \n",
       "13         2928        0.038807     15023.0          0  \n",
       "14         1547        0.042373      5782.0          1  \n",
       "15         1135        0.077916      4261.0          1  \n",
       "16         2333        0.041526      9464.0          0  \n",
       "17         2222        0.029903     10534.0          1  \n",
       "18         2787        0.034653     12957.0          1  \n",
       "19         2460        0.032653     13138.0          0  \n",
       "20         2410        0.042960      9730.0          0  \n",
       "21         2912        0.039857     15079.0          0  \n",
       "22         2853        0.033534     15775.0          1  \n",
       "23         2546        0.040988      9393.0          3  \n",
       "24         1255        0.069089      3908.0          0  \n",
       "25         1572        0.056882      5907.0          0  \n",
       "26         3507        0.027719     19734.0          1  \n",
       "27         1763        0.051399      6790.0          4  \n",
       "28         2310        0.043407     11058.0          0  \n",
       "29         2794        0.037758     14487.0          0  \n",
       "...         ...             ...         ...        ...  \n",
       "2970       1760        0.036869      6184.0          0  \n",
       "2971       3638        0.030574     19788.0          1  \n",
       "2972       1851        0.013921      8620.0          0  \n",
       "2973       2622        0.038138     11773.0          1  \n",
       "2974        891        0.023609      2372.0          0  \n",
       "2975       1358        0.039869      5819.0          2  \n",
       "2976       1058        0.030183      3777.0          2  \n",
       "2977       2854        0.028357     14141.0          0  \n",
       "2978       1223        0.043139      5123.0          2  \n",
       "2979       1237        0.046340      2978.0          0  \n",
       "2980       2138        0.042332      7016.0          3  \n",
       "2981       1843        0.045131      7999.0          1  \n",
       "2982       3188        0.038958     15812.0          1  \n",
       "2983       3026        0.038100     15643.0          1  \n",
       "2984       2788        0.044076     13159.0          1  \n",
       "2985       1933        0.037748      8954.0          2  \n",
       "2986       3435        0.031982     19042.0          1  \n",
       "2987       2486        0.038449     12302.0          0  \n",
       "2988       1476        0.052229      6012.0          0  \n",
       "2989       1896        0.044216      6310.0          3  \n",
       "2990       2479        0.027538      9369.0          1  \n",
       "2991       2053        0.049257     13602.0          0  \n",
       "2992       2441        0.036789     10438.0          0  \n",
       "2993       2395        0.029283      8879.0          0  \n",
       "2994        979        0.058658      3205.0          0  \n",
       "2995       2349        0.040127      9445.0          0  \n",
       "2996       1501        0.053611      5428.0          0  \n",
       "2997       3223        0.039531     17733.0          0  \n",
       "2998       2663        0.041770     10893.0          0  \n",
       "2999       2255        0.032692     10400.0          0  \n",
       "\n",
       "[3000 rows x 9 columns]"
      ]
     },
     "execution_count": 8,
     "metadata": {},
     "output_type": "execute_result"
    }
   ],
   "source": [
    "Comparison1 = pd.merge(Data1, Orig, on='index')\n",
    "Comparison1"
   ]
  },
  {
   "cell_type": "code",
   "execution_count": 9,
   "metadata": {},
   "outputs": [],
   "source": [
    "Test1 = (Comparison1['louvain_x'] == Comparison1['louvain_y'])"
   ]
  },
  {
   "cell_type": "code",
   "execution_count": 10,
   "metadata": {},
   "outputs": [
    {
     "data": {
      "text/plain": [
       "1664"
      ]
     },
     "execution_count": 10,
     "metadata": {},
     "output_type": "execute_result"
    }
   ],
   "source": [
    "sum(Test1)"
   ]
  },
  {
   "cell_type": "code",
   "execution_count": 11,
   "metadata": {},
   "outputs": [],
   "source": [
    "Comparison2 = pd.merge(Data2, Orig, on='index')"
   ]
  },
  {
   "cell_type": "code",
   "execution_count": 12,
   "metadata": {},
   "outputs": [],
   "source": [
    "Test2=(Comparison2['louvain_x'] == Comparison2['louvain_y'])"
   ]
  },
  {
   "cell_type": "code",
   "execution_count": 13,
   "metadata": {},
   "outputs": [
    {
     "data": {
      "text/plain": [
       "1036"
      ]
     },
     "execution_count": 13,
     "metadata": {},
     "output_type": "execute_result"
    }
   ],
   "source": [
    "sum(Test2)"
   ]
  },
  {
   "cell_type": "code",
   "execution_count": 14,
   "metadata": {},
   "outputs": [],
   "source": [
    "Comparison3 = pd.merge(Data3, Orig, on='index')"
   ]
  },
  {
   "cell_type": "code",
   "execution_count": 15,
   "metadata": {},
   "outputs": [],
   "source": [
    "Test3=(Comparison3['louvain_x'] == Comparison3['louvain_y'])"
   ]
  },
  {
   "cell_type": "code",
   "execution_count": 16,
   "metadata": {},
   "outputs": [
    {
     "data": {
      "text/plain": [
       "1134"
      ]
     },
     "execution_count": 16,
     "metadata": {},
     "output_type": "execute_result"
    }
   ],
   "source": [
    "sum(Test3)"
   ]
  },
  {
   "cell_type": "code",
   "execution_count": 17,
   "metadata": {},
   "outputs": [],
   "source": [
    "Comparison4 = pd.merge(Data4, Orig, on='index')"
   ]
  },
  {
   "cell_type": "code",
   "execution_count": 18,
   "metadata": {},
   "outputs": [],
   "source": [
    "Test4=(Comparison4['louvain_x'] == Comparison4['louvain_y'])"
   ]
  },
  {
   "cell_type": "code",
   "execution_count": 19,
   "metadata": {},
   "outputs": [
    {
     "data": {
      "text/plain": [
       "2451"
      ]
     },
     "execution_count": 19,
     "metadata": {},
     "output_type": "execute_result"
    }
   ],
   "source": [
    "sum(Test4)"
   ]
  },
  {
   "cell_type": "code",
   "execution_count": 20,
   "metadata": {},
   "outputs": [],
   "source": [
    "Comparison5 = pd.merge(Data5, Orig, on='index')"
   ]
  },
  {
   "cell_type": "code",
   "execution_count": 21,
   "metadata": {},
   "outputs": [],
   "source": [
    "Test5=(Comparison5['louvain_x'] == Comparison5['louvain_y'])"
   ]
  },
  {
   "cell_type": "code",
   "execution_count": 22,
   "metadata": {},
   "outputs": [
    {
     "data": {
      "text/plain": [
       "1206"
      ]
     },
     "execution_count": 22,
     "metadata": {},
     "output_type": "execute_result"
    }
   ],
   "source": [
    "sum(Test5)"
   ]
  },
  {
   "cell_type": "code",
   "execution_count": 23,
   "metadata": {},
   "outputs": [
    {
     "data": {
      "text/plain": [
       "louvain_y  louvain_x\n",
       "0          0            1182\n",
       "           1             552\n",
       "           2             167\n",
       "           4               1\n",
       "1          0             562\n",
       "           1               4\n",
       "           3               4\n",
       "2          0              32\n",
       "           2             317\n",
       "3          0               9\n",
       "           1               3\n",
       "           2               5\n",
       "           3             139\n",
       "           4               1\n",
       "4          4              22\n",
       "dtype: int64"
      ]
     },
     "execution_count": 23,
     "metadata": {},
     "output_type": "execute_result"
    }
   ],
   "source": [
    "Comparison1.groupby([\"louvain_y\", \"louvain_x\"]).size()"
   ]
  },
  {
   "cell_type": "code",
   "execution_count": 24,
   "metadata": {},
   "outputs": [
    {
     "data": {
      "text/plain": [
       "louvain_y  louvain_x\n",
       "0          0            524\n",
       "           1            962\n",
       "           2            309\n",
       "           3              3\n",
       "           4            128\n",
       "1          0            524\n",
       "           1             43\n",
       "           3              3\n",
       "2          0              4\n",
       "           1              5\n",
       "           2            349\n",
       "3          0              2\n",
       "           1              3\n",
       "           2              4\n",
       "           3            120\n",
       "           4              2\n",
       "4          0              1\n",
       "           1              1\n",
       "           3             13\n",
       "dtype: int64"
      ]
     },
     "execution_count": 24,
     "metadata": {},
     "output_type": "execute_result"
    }
   ],
   "source": [
    "Comparison2.groupby([\"louvain_y\", \"louvain_x\"]).size()"
   ]
  },
  {
   "cell_type": "code",
   "execution_count": 25,
   "metadata": {},
   "outputs": [
    {
     "data": {
      "text/plain": [
       "louvain_y  louvain_x\n",
       "0          0            1108\n",
       "           1             288\n",
       "           2             146\n",
       "           3             372\n",
       "           4               1\n",
       "1          0             251\n",
       "           1               4\n",
       "           2             353\n",
       "2          0               3\n",
       "           1             324\n",
       "           2               7\n",
       "           3               1\n",
       "3          0               5\n",
       "           1               3\n",
       "           2               6\n",
       "           3               1\n",
       "           4             109\n",
       "4          0               1\n",
       "           1               1\n",
       "           2               1\n",
       "           3               1\n",
       "           4              14\n",
       "dtype: int64"
      ]
     },
     "execution_count": 25,
     "metadata": {},
     "output_type": "execute_result"
    }
   ],
   "source": [
    "Comparison3.groupby([\"louvain_y\", \"louvain_x\"]).size()"
   ]
  },
  {
   "cell_type": "code",
   "execution_count": 26,
   "metadata": {},
   "outputs": [
    {
     "data": {
      "text/plain": [
       "louvain_y  louvain_x\n",
       "0          0            1544\n",
       "           1             133\n",
       "           2             223\n",
       "           3               2\n",
       "           4               2\n",
       "1          0             148\n",
       "           1             443\n",
       "           2               5\n",
       "           3               1\n",
       "           4               1\n",
       "2          0               2\n",
       "           1               6\n",
       "           2             326\n",
       "3          0              11\n",
       "           1               6\n",
       "           2               8\n",
       "           3             113\n",
       "           4               1\n",
       "4          4              25\n",
       "dtype: int64"
      ]
     },
     "execution_count": 26,
     "metadata": {},
     "output_type": "execute_result"
    }
   ],
   "source": [
    "Comparison4.groupby([\"louvain_y\", \"louvain_x\"]).size()"
   ]
  },
  {
   "cell_type": "code",
   "execution_count": 27,
   "metadata": {},
   "outputs": [
    {
     "data": {
      "text/plain": [
       "louvain_y  louvain_x\n",
       "0          0            1181\n",
       "           1             322\n",
       "           2             136\n",
       "           3             257\n",
       "1          0              97\n",
       "           1               5\n",
       "           2             496\n",
       "           4               1\n",
       "2          0               2\n",
       "           1             323\n",
       "           3               4\n",
       "3          0              11\n",
       "           1               3\n",
       "           2               7\n",
       "           3               3\n",
       "           4             133\n",
       "4          1               1\n",
       "           2               1\n",
       "           4              17\n",
       "dtype: int64"
      ]
     },
     "execution_count": 27,
     "metadata": {},
     "output_type": "execute_result"
    }
   ],
   "source": [
    "Comparison5.groupby([\"louvain_y\", \"louvain_x\"]).size()"
   ]
  },
  {
   "cell_type": "code",
   "execution_count": 28,
   "metadata": {},
   "outputs": [],
   "source": [
    "import matplotlib.pyplot as plt; plt.rcdefaults()\n",
    "import matplotlib.pyplot as plt"
   ]
  },
  {
   "cell_type": "code",
   "execution_count": 29,
   "metadata": {},
   "outputs": [],
   "source": [
    "N=5\n",
    "ind = np.arange(N)"
   ]
  },
  {
   "cell_type": "code",
   "execution_count": 30,
   "metadata": {},
   "outputs": [],
   "source": [
    "Cluster1 = (0.3164, 0.4967, 0.8099, 0.9056, 0.9148)\n",
    "Cluster2 = (0.9875, 0.9487, 0.5226, 0.7534, 0.4929)\n",
    "Cluster3 = (0.6483, 0.5272, 0.6881, 0.5801, 0.7750)\n",
    "Cluster4 = (0.9720, 0.8633, 0.0027, 0.9741, 0.0000)\n",
    "Cluster5 = (0.9167, 0.0000, 0.8790, 0.8621, 0.8808)"
   ]
  },
  {
   "cell_type": "code",
   "execution_count": 31,
   "metadata": {},
   "outputs": [
    {
     "ename": "NameError",
     "evalue": "name 'legend' is not defined",
     "output_type": "error",
     "traceback": [
      "\u001b[0;31m---------------------------------------------------------------------------\u001b[0m",
      "\u001b[0;31mNameError\u001b[0m                                 Traceback (most recent call last)",
      "\u001b[0;32m<ipython-input-31-c5d20adddf19>\u001b[0m in \u001b[0;36m<module>\u001b[0;34m()\u001b[0m\n\u001b[1;32m      3\u001b[0m \u001b[0mfontP\u001b[0m \u001b[0;34m=\u001b[0m \u001b[0mFontProperties\u001b[0m\u001b[0;34m(\u001b[0m\u001b[0;34m)\u001b[0m\u001b[0;34m\u001b[0m\u001b[0m\n\u001b[1;32m      4\u001b[0m \u001b[0mfontP\u001b[0m\u001b[0;34m.\u001b[0m\u001b[0mset_size\u001b[0m\u001b[0;34m(\u001b[0m\u001b[0;34m'small'\u001b[0m\u001b[0;34m)\u001b[0m\u001b[0;34m\u001b[0m\u001b[0m\n\u001b[0;32m----> 5\u001b[0;31m \u001b[0mlegend\u001b[0m\u001b[0;34m(\u001b[0m\u001b[0;34m[\u001b[0m\u001b[0mplot1\u001b[0m\u001b[0;34m]\u001b[0m\u001b[0;34m,\u001b[0m \u001b[0;34m\"title\"\u001b[0m\u001b[0;34m,\u001b[0m \u001b[0mprop\u001b[0m\u001b[0;34m=\u001b[0m\u001b[0mfontP\u001b[0m\u001b[0;34m)\u001b[0m\u001b[0;34m\u001b[0m\u001b[0m\n\u001b[0m",
      "\u001b[0;31mNameError\u001b[0m: name 'legend' is not defined"
     ]
    }
   ],
   "source": [
    "from matplotlib.font_manager import FontProperties\n",
    "\n",
    "fontP = FontProperties()\n",
    "fontP.set_size('small')\n",
    "legend([plot1], \"title\", prop=fontP)"
   ]
  },
  {
   "cell_type": "code",
   "execution_count": null,
   "metadata": {},
   "outputs": [],
   "source": [
    "df=pd.DataFrame({'Cluster 1':Cluster1, 'Cluster 2':Cluster2, 'Cluster3':Cluster3, 'Cluster4':Cluster4, 'Cluster5':Cluster5})\n",
    "df.plot(kind='bar', stacked=False)\n",
    "plt.ylabel('Percentage of Matching Genes per Cluster')\n",
    "plt.xlabel('Runs')\n",
    "plt.title('Cell Comparison (3000 cells)')\n",
    "plt.xticks(ind, ('Run 1', 'Run 2', 'Run 3', 'Run 4', 'Run 5'))\n",
    "plt.legend\n",
    "ax = plt.subplot(111)\n",
    "# Put a legend to the right of the current axis\n",
    "ax.legend(loc='center left', bbox_to_anchor=(1, 0.5))\n",
    "plt.show()"
   ]
  },
  {
   "cell_type": "code",
   "execution_count": 32,
   "metadata": {},
   "outputs": [
    {
     "data": {
      "text/plain": [
       "0.20680397558290647"
      ]
     },
     "execution_count": 32,
     "metadata": {},
     "output_type": "execute_result"
    }
   ],
   "source": [
    "from sklearn import metrics\n",
    "metrics.adjusted_rand_score(Comparison1['louvain_y'], Comparison1['louvain_x'])  "
   ]
  },
  {
   "cell_type": "code",
   "execution_count": 33,
   "metadata": {},
   "outputs": [
    {
     "data": {
      "text/plain": [
       "0.2332036400705397"
      ]
     },
     "execution_count": 33,
     "metadata": {},
     "output_type": "execute_result"
    }
   ],
   "source": [
    "metrics.adjusted_rand_score(Comparison2['louvain_y'], Comparison2['louvain_x'])"
   ]
  },
  {
   "cell_type": "code",
   "execution_count": 34,
   "metadata": {},
   "outputs": [
    {
     "data": {
      "text/plain": [
       "0.24582366102455733"
      ]
     },
     "execution_count": 34,
     "metadata": {},
     "output_type": "execute_result"
    }
   ],
   "source": [
    "metrics.adjusted_rand_score(Comparison3['louvain_y'], Comparison3['louvain_x'])"
   ]
  },
  {
   "cell_type": "code",
   "execution_count": 35,
   "metadata": {},
   "outputs": [
    {
     "data": {
      "text/plain": [
       "0.5206893441237752"
      ]
     },
     "execution_count": 35,
     "metadata": {},
     "output_type": "execute_result"
    }
   ],
   "source": [
    "metrics.adjusted_rand_score(Comparison4['louvain_y'], Comparison4['louvain_x'])"
   ]
  },
  {
   "cell_type": "code",
   "execution_count": 36,
   "metadata": {},
   "outputs": [
    {
     "data": {
      "text/plain": [
       "0.3612071853827955"
      ]
     },
     "execution_count": 36,
     "metadata": {},
     "output_type": "execute_result"
    }
   ],
   "source": [
    "metrics.adjusted_rand_score(Comparison5['louvain_y'], Comparison5['louvain_x'])"
   ]
  },
  {
   "cell_type": "code",
   "execution_count": 41,
   "metadata": {},
   "outputs": [
    {
     "data": {
      "text/plain": [
       "0.4392450761040255"
      ]
     },
     "execution_count": 41,
     "metadata": {},
     "output_type": "execute_result"
    }
   ],
   "source": [
    "from sklearn.metrics.cluster import normalized_mutual_info_score\n",
    "normalized_mutual_info_score(Comparison1['louvain_y'], Comparison1['louvain_x'])"
   ]
  },
  {
   "cell_type": "code",
   "execution_count": 42,
   "metadata": {},
   "outputs": [
    {
     "data": {
      "text/plain": [
       "0.42084336976958636"
      ]
     },
     "execution_count": 42,
     "metadata": {},
     "output_type": "execute_result"
    }
   ],
   "source": [
    "normalized_mutual_info_score(Comparison2['louvain_y'], Comparison2['louvain_x'])"
   ]
  },
  {
   "cell_type": "code",
   "execution_count": 43,
   "metadata": {},
   "outputs": [
    {
     "data": {
      "text/plain": [
       "0.3988931841832446"
      ]
     },
     "execution_count": 43,
     "metadata": {},
     "output_type": "execute_result"
    }
   ],
   "source": [
    "normalized_mutual_info_score(Comparison3['louvain_y'], Comparison3['louvain_x'])"
   ]
  },
  {
   "cell_type": "code",
   "execution_count": 44,
   "metadata": {},
   "outputs": [
    {
     "data": {
      "text/plain": [
       "0.5170498072511336"
      ]
     },
     "execution_count": 44,
     "metadata": {},
     "output_type": "execute_result"
    }
   ],
   "source": [
    "normalized_mutual_info_score(Comparison4['louvain_y'], Comparison4['louvain_x'])"
   ]
  },
  {
   "cell_type": "code",
   "execution_count": 45,
   "metadata": {},
   "outputs": [
    {
     "data": {
      "text/plain": [
       "0.47851127501392887"
      ]
     },
     "execution_count": 45,
     "metadata": {},
     "output_type": "execute_result"
    }
   ],
   "source": [
    "normalized_mutual_info_score(Comparison5['louvain_y'], Comparison5['louvain_x'])"
   ]
  },
  {
   "cell_type": "code",
   "execution_count": null,
   "metadata": {},
   "outputs": [],
   "source": []
  }
 ],
 "metadata": {
  "kernelspec": {
   "display_name": "Python 3",
   "language": "python",
   "name": "python3"
  },
  "language_info": {
   "codemirror_mode": {
    "name": "ipython",
    "version": 3
   },
   "file_extension": ".py",
   "mimetype": "text/x-python",
   "name": "python",
   "nbconvert_exporter": "python",
   "pygments_lexer": "ipython3",
   "version": "3.6.5"
  }
 },
 "nbformat": 4,
 "nbformat_minor": 2
}
