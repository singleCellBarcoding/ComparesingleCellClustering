{
 "cells": [
  {
   "cell_type": "code",
   "execution_count": 1,
   "metadata": {},
   "outputs": [
    {
     "name": "stderr",
     "output_type": "stream",
     "text": [
      "/home/ehamilton/miniconda3/envs/singlecellanalysis/lib/python3.6/site-packages/h5py/__init__.py:36: FutureWarning: Conversion of the second argument of issubdtype from `float` to `np.floating` is deprecated. In future, it will be treated as `np.float64 == np.dtype(float).type`.\n",
      "  from ._conv import register_converters as _register_converters\n"
     ]
    },
    {
     "name": "stdout",
     "output_type": "stream",
     "text": [
      "scanpy==1.0.4 anndata==0.6.1 numpy==1.14.3 scipy==1.1.0 pandas==0.23.0 scikit-learn==0.19.1 statsmodels==0.9.0 python-igraph==0.7.1 louvain==0.6.1 \n"
     ]
    }
   ],
   "source": [
    "import numpy as np\n",
    "import pandas as pd\n",
    "import scanpy.api as sc\n",
    "import matplotlib.pyplot as plt\n",
    "%matplotlib notebook\n",
    "import timeit\n",
    "start_time=timeit.default_timer()\n",
    "\n",
    "sc.settings.verbosity = 3  # verbosity: errors (0), warnings (1), info (2), hints (3)\n",
    "sc.settings.set_figure_params(dpi=80)  # low dpi (dots per inch) yields small inline figures\n",
    "sc.logging.print_versions()\n",
    "results_file = './write/pmbc3k.h5ad'"
   ]
  },
  {
   "cell_type": "code",
   "execution_count": 2,
   "metadata": {},
   "outputs": [],
   "source": [
    "Data1 = pd.read_csv('AffinityDownsizedCellList300_1.csv', sep='\\t')"
   ]
  },
  {
   "cell_type": "code",
   "execution_count": 3,
   "metadata": {},
   "outputs": [],
   "source": [
    "Data2 = pd.read_csv('AffinityDownsizedCellList300_2.csv', sep='\\t')"
   ]
  },
  {
   "cell_type": "code",
   "execution_count": 4,
   "metadata": {},
   "outputs": [],
   "source": [
    "Data3 = pd.read_csv('AffinityDownsizedCellList300_3.csv', sep='\\t')"
   ]
  },
  {
   "cell_type": "code",
   "execution_count": 5,
   "metadata": {},
   "outputs": [],
   "source": [
    "Data4 = pd.read_csv('AffinityDownsizedCellList300_4.csv', sep='\\t')"
   ]
  },
  {
   "cell_type": "code",
   "execution_count": 6,
   "metadata": {},
   "outputs": [],
   "source": [
    "Data5 = pd.read_csv('AffinityDownsizedCellList300_5.csv', sep='\\t')"
   ]
  },
  {
   "cell_type": "code",
   "execution_count": 7,
   "metadata": {},
   "outputs": [],
   "source": [
    "path = '/home/ehamilton/ProjectSummer2018/GRCh38/'\n",
    "Orig = pd.read_csv(path + 'AffinityDownsizedCellListNew.csv', sep='\\t')"
   ]
  },
  {
   "cell_type": "code",
   "execution_count": 8,
   "metadata": {},
   "outputs": [],
   "source": [
    "Comparison1 = pd.merge(Data1, Orig, on=['n_genes','n_counts'])"
   ]
  },
  {
   "cell_type": "code",
   "execution_count": 9,
   "metadata": {},
   "outputs": [],
   "source": [
    "Comparison2 = pd.merge(Data2, Orig, on=['n_genes','n_counts'])"
   ]
  },
  {
   "cell_type": "code",
   "execution_count": 10,
   "metadata": {},
   "outputs": [],
   "source": [
    "Comparison3 = pd.merge(Data3, Orig, on=['n_genes','n_counts'])"
   ]
  },
  {
   "cell_type": "code",
   "execution_count": 11,
   "metadata": {},
   "outputs": [],
   "source": [
    "Comparison4 = pd.merge(Data4, Orig, on=['n_genes','n_counts'])"
   ]
  },
  {
   "cell_type": "code",
   "execution_count": 12,
   "metadata": {},
   "outputs": [],
   "source": [
    "Comparison5 = pd.merge(Data5, Orig, on=['n_genes','n_counts'])"
   ]
  },
  {
   "cell_type": "code",
   "execution_count": 13,
   "metadata": {},
   "outputs": [
    {
     "data": {
      "text/plain": [
       "Affinity_y  Affinity_x\n",
       "0           0             28\n",
       "            1             42\n",
       "            4             27\n",
       "1           0             14\n",
       "            1             19\n",
       "            2              1\n",
       "            4             12\n",
       "2           0              7\n",
       "            1              6\n",
       "            3              1\n",
       "            4              7\n",
       "3           0             20\n",
       "            1             32\n",
       "            4             20\n",
       "4           0             19\n",
       "            1             27\n",
       "            4             18\n",
       "dtype: int64"
      ]
     },
     "execution_count": 13,
     "metadata": {},
     "output_type": "execute_result"
    }
   ],
   "source": [
    "Comparison1.groupby([\"Affinity_y\", \"Affinity_x\"]).size()"
   ]
  },
  {
   "cell_type": "code",
   "execution_count": 14,
   "metadata": {},
   "outputs": [
    {
     "data": {
      "text/plain": [
       "Affinity_y  Affinity_x\n",
       "0           0             38\n",
       "            1             43\n",
       "            4             16\n",
       "1           0             19\n",
       "            1             19\n",
       "            4              8\n",
       "2           0             10\n",
       "            1              7\n",
       "            4              4\n",
       "3           0             26\n",
       "            1             33\n",
       "            2              1\n",
       "            4             12\n",
       "4           0             22\n",
       "            1             36\n",
       "            3              1\n",
       "            4              5\n",
       "dtype: int64"
      ]
     },
     "execution_count": 14,
     "metadata": {},
     "output_type": "execute_result"
    }
   ],
   "source": [
    "Comparison2.groupby([\"Affinity_y\", \"Affinity_x\"]).size()"
   ]
  },
  {
   "cell_type": "code",
   "execution_count": 15,
   "metadata": {},
   "outputs": [
    {
     "data": {
      "text/plain": [
       "Affinity_y  Affinity_x\n",
       "0           1             32\n",
       "            2              1\n",
       "            3             25\n",
       "            4             39\n",
       "1           0              1\n",
       "            1             13\n",
       "            3             10\n",
       "            4             22\n",
       "2           1              7\n",
       "            3              5\n",
       "            4              9\n",
       "3           1             30\n",
       "            3             13\n",
       "            4             29\n",
       "4           1             19\n",
       "            3             14\n",
       "            4             31\n",
       "dtype: int64"
      ]
     },
     "execution_count": 15,
     "metadata": {},
     "output_type": "execute_result"
    }
   ],
   "source": [
    "Comparison3.groupby([\"Affinity_y\", \"Affinity_x\"]).size()"
   ]
  },
  {
   "cell_type": "code",
   "execution_count": 16,
   "metadata": {},
   "outputs": [
    {
     "data": {
      "text/plain": [
       "Affinity_y  Affinity_x\n",
       "0           0             25\n",
       "            1             72\n",
       "1           0              9\n",
       "            1             36\n",
       "            4              1\n",
       "2           0              6\n",
       "            1             15\n",
       "3           0             14\n",
       "            1             57\n",
       "            3              1\n",
       "4           0              9\n",
       "            1             54\n",
       "            2              1\n",
       "dtype: int64"
      ]
     },
     "execution_count": 16,
     "metadata": {},
     "output_type": "execute_result"
    }
   ],
   "source": [
    "Comparison4.groupby([\"Affinity_y\", \"Affinity_x\"]).size()"
   ]
  },
  {
   "cell_type": "code",
   "execution_count": 17,
   "metadata": {},
   "outputs": [
    {
     "data": {
      "text/plain": [
       "Affinity_y  Affinity_x\n",
       "0           0              1\n",
       "            1             57\n",
       "            2             38\n",
       "            3              1\n",
       "1           1             24\n",
       "            2             22\n",
       "2           1             14\n",
       "            2              7\n",
       "3           1             50\n",
       "            2             22\n",
       "4           1             42\n",
       "            2             21\n",
       "            4              1\n",
       "dtype: int64"
      ]
     },
     "execution_count": 17,
     "metadata": {},
     "output_type": "execute_result"
    }
   ],
   "source": [
    "Comparison5.groupby([\"Affinity_y\", \"Affinity_x\"]).size()"
   ]
  },
  {
   "cell_type": "code",
   "execution_count": 18,
   "metadata": {},
   "outputs": [
    {
     "data": {
      "text/plain": [
       "-0.0022413690461588007"
      ]
     },
     "execution_count": 18,
     "metadata": {},
     "output_type": "execute_result"
    }
   ],
   "source": [
    "from sklearn import metrics\n",
    "metrics.adjusted_rand_score(Comparison1['Affinity_y'], Comparison1['Affinity_x']) "
   ]
  },
  {
   "cell_type": "code",
   "execution_count": 19,
   "metadata": {},
   "outputs": [
    {
     "data": {
      "text/plain": [
       "-0.001150078332212021"
      ]
     },
     "execution_count": 19,
     "metadata": {},
     "output_type": "execute_result"
    }
   ],
   "source": [
    "metrics.adjusted_rand_score(Comparison2['Affinity_y'], Comparison2['Affinity_x'])"
   ]
  },
  {
   "cell_type": "code",
   "execution_count": 20,
   "metadata": {},
   "outputs": [
    {
     "data": {
      "text/plain": [
       "-0.005265179066159613"
      ]
     },
     "execution_count": 20,
     "metadata": {},
     "output_type": "execute_result"
    }
   ],
   "source": [
    "metrics.adjusted_rand_score(Comparison3['Affinity_y'], Comparison3['Affinity_x'])"
   ]
  },
  {
   "cell_type": "code",
   "execution_count": 21,
   "metadata": {},
   "outputs": [
    {
     "data": {
      "text/plain": [
       "-0.0019821522261822154"
      ]
     },
     "execution_count": 21,
     "metadata": {},
     "output_type": "execute_result"
    }
   ],
   "source": [
    "metrics.adjusted_rand_score(Comparison4['Affinity_y'], Comparison4['Affinity_x'])"
   ]
  },
  {
   "cell_type": "code",
   "execution_count": 22,
   "metadata": {},
   "outputs": [
    {
     "data": {
      "text/plain": [
       "-0.0013868088302026222"
      ]
     },
     "execution_count": 22,
     "metadata": {},
     "output_type": "execute_result"
    }
   ],
   "source": [
    "metrics.adjusted_rand_score(Comparison5['Affinity_y'], Comparison5['Affinity_x'])"
   ]
  },
  {
   "cell_type": "code",
   "execution_count": 23,
   "metadata": {},
   "outputs": [
    {
     "data": {
      "text/plain": [
       "0.013711194798407399"
      ]
     },
     "execution_count": 23,
     "metadata": {},
     "output_type": "execute_result"
    }
   ],
   "source": [
    "from sklearn.metrics.cluster import normalized_mutual_info_score\n",
    "normalized_mutual_info_score(Comparison1['Affinity_y'], Comparison1['Affinity_x'])"
   ]
  },
  {
   "cell_type": "code",
   "execution_count": 24,
   "metadata": {},
   "outputs": [
    {
     "data": {
      "text/plain": [
       "0.016767501488048512"
      ]
     },
     "execution_count": 24,
     "metadata": {},
     "output_type": "execute_result"
    }
   ],
   "source": [
    "normalized_mutual_info_score(Comparison2['Affinity_y'], Comparison2['Affinity_x'])"
   ]
  },
  {
   "cell_type": "code",
   "execution_count": 25,
   "metadata": {},
   "outputs": [
    {
     "data": {
      "text/plain": [
       "0.013108052327535208"
      ]
     },
     "execution_count": 25,
     "metadata": {},
     "output_type": "execute_result"
    }
   ],
   "source": [
    "normalized_mutual_info_score(Comparison3['Affinity_y'], Comparison3['Affinity_x'])"
   ]
  },
  {
   "cell_type": "code",
   "execution_count": 26,
   "metadata": {},
   "outputs": [
    {
     "data": {
      "text/plain": [
       "0.02427931880131681"
      ]
     },
     "execution_count": 26,
     "metadata": {},
     "output_type": "execute_result"
    }
   ],
   "source": [
    "normalized_mutual_info_score(Comparison4['Affinity_y'], Comparison4['Affinity_x'])"
   ]
  },
  {
   "cell_type": "code",
   "execution_count": 27,
   "metadata": {},
   "outputs": [
    {
     "data": {
      "text/plain": [
       "0.01926012762802267"
      ]
     },
     "execution_count": 27,
     "metadata": {},
     "output_type": "execute_result"
    }
   ],
   "source": [
    "normalized_mutual_info_score(Comparison5['Affinity_y'], Comparison5['Affinity_x'])"
   ]
  }
 ],
 "metadata": {
  "kernelspec": {
   "display_name": "Python 3",
   "language": "python",
   "name": "python3"
  },
  "language_info": {
   "codemirror_mode": {
    "name": "ipython",
    "version": 3
   },
   "file_extension": ".py",
   "mimetype": "text/x-python",
   "name": "python",
   "nbconvert_exporter": "python",
   "pygments_lexer": "ipython3",
   "version": "3.6.5"
  }
 },
 "nbformat": 4,
 "nbformat_minor": 2
}
