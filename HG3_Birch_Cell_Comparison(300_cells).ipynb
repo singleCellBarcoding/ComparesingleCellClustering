{
 "cells": [
  {
   "cell_type": "code",
   "execution_count": 1,
   "metadata": {},
   "outputs": [
    {
     "name": "stderr",
     "output_type": "stream",
     "text": [
      "/home/ehamilton/miniconda3/envs/singlecellanalysis/lib/python3.6/site-packages/h5py/__init__.py:36: FutureWarning: Conversion of the second argument of issubdtype from `float` to `np.floating` is deprecated. In future, it will be treated as `np.float64 == np.dtype(float).type`.\n",
      "  from ._conv import register_converters as _register_converters\n"
     ]
    },
    {
     "name": "stdout",
     "output_type": "stream",
     "text": [
      "scanpy==1.0.4 anndata==0.6.1 numpy==1.14.3 scipy==1.1.0 pandas==0.23.0 scikit-learn==0.19.1 statsmodels==0.9.0 python-igraph==0.7.1 louvain==0.6.1 \n"
     ]
    }
   ],
   "source": [
    "import numpy as np\n",
    "import pandas as pd\n",
    "import scanpy.api as sc\n",
    "import matplotlib.pyplot as plt\n",
    "%matplotlib notebook\n",
    "import timeit\n",
    "start_time=timeit.default_timer()\n",
    "\n",
    "sc.settings.verbosity = 3  # verbosity: errors (0), warnings (1), info (2), hints (3)\n",
    "sc.settings.set_figure_params(dpi=80)  # low dpi (dots per inch) yields small inline figures\n",
    "sc.logging.print_versions()\n",
    "results_file = './write/pmbc3k.h5ad'"
   ]
  },
  {
   "cell_type": "code",
   "execution_count": 2,
   "metadata": {},
   "outputs": [],
   "source": [
    "Data1 = pd.read_csv('BirchDownsizedCellList300_1.csv', sep='\\t')"
   ]
  },
  {
   "cell_type": "code",
   "execution_count": 3,
   "metadata": {},
   "outputs": [],
   "source": [
    "Data2 = pd.read_csv('BirchDownsizedCellList300_2.csv', sep='\\t')"
   ]
  },
  {
   "cell_type": "code",
   "execution_count": 4,
   "metadata": {},
   "outputs": [],
   "source": [
    "Data3 = pd.read_csv('BirchDownsizedCellList300_3.csv', sep='\\t')"
   ]
  },
  {
   "cell_type": "code",
   "execution_count": 5,
   "metadata": {},
   "outputs": [],
   "source": [
    "Data4 = pd.read_csv('BirchDownsizedCellList300_4.csv', sep='\\t')"
   ]
  },
  {
   "cell_type": "code",
   "execution_count": 6,
   "metadata": {},
   "outputs": [],
   "source": [
    "Data5 = pd.read_csv('BirchDownsizedCellList300_5.csv', sep='\\t')"
   ]
  },
  {
   "cell_type": "code",
   "execution_count": 7,
   "metadata": {},
   "outputs": [],
   "source": [
    "path = '/home/ehamilton/ProjectSummer2018/GRCh38/'\n",
    "Orig = pd.read_csv(path + 'BirchDownsizedCellListNEW.csv', sep='\\t')"
   ]
  },
  {
   "cell_type": "code",
   "execution_count": 8,
   "metadata": {},
   "outputs": [],
   "source": [
    "Comparison1 = pd.merge(Data1, Orig, on=['n_genes','n_counts'])"
   ]
  },
  {
   "cell_type": "code",
   "execution_count": 9,
   "metadata": {},
   "outputs": [],
   "source": [
    "Comparison2 = pd.merge(Data2, Orig, on=['n_genes','n_counts'])"
   ]
  },
  {
   "cell_type": "code",
   "execution_count": 10,
   "metadata": {},
   "outputs": [],
   "source": [
    "Comparison3 = pd.merge(Data3, Orig, on=['n_genes','n_counts'])"
   ]
  },
  {
   "cell_type": "code",
   "execution_count": 11,
   "metadata": {},
   "outputs": [],
   "source": [
    "Comparison4 = pd.merge(Data4, Orig, on=['n_genes','n_counts'])"
   ]
  },
  {
   "cell_type": "code",
   "execution_count": 12,
   "metadata": {},
   "outputs": [],
   "source": [
    "Comparison5 = pd.merge(Data5, Orig, on=['n_genes','n_counts'])"
   ]
  },
  {
   "cell_type": "code",
   "execution_count": 13,
   "metadata": {},
   "outputs": [
    {
     "data": {
      "text/plain": [
       "Birch_y  Birch_x\n",
       "0        0           31\n",
       "         2           18\n",
       "         3            1\n",
       "1        0            1\n",
       "         1            1\n",
       "         2           36\n",
       "2        0            4\n",
       "         1            1\n",
       "         2            5\n",
       "         3           52\n",
       "3        0            3\n",
       "         1            1\n",
       "         2            9\n",
       "         4            1\n",
       "4        0            7\n",
       "         2          125\n",
       "         3            4\n",
       "dtype: int64"
      ]
     },
     "execution_count": 13,
     "metadata": {},
     "output_type": "execute_result"
    }
   ],
   "source": [
    "Comparison1.groupby([\"Birch_y\", \"Birch_x\"]).size()"
   ]
  },
  {
   "cell_type": "code",
   "execution_count": 14,
   "metadata": {},
   "outputs": [
    {
     "data": {
      "text/plain": [
       "Birch_y  Birch_x\n",
       "0        0            4\n",
       "         1           13\n",
       "         3           31\n",
       "1        0           12\n",
       "         1           34\n",
       "         2            1\n",
       "         4            1\n",
       "2        0            4\n",
       "         1           13\n",
       "         2           26\n",
       "         3            6\n",
       "3        0            4\n",
       "         1            8\n",
       "4        0            4\n",
       "         1          130\n",
       "         2            5\n",
       "         3            4\n",
       "dtype: int64"
      ]
     },
     "execution_count": 14,
     "metadata": {},
     "output_type": "execute_result"
    }
   ],
   "source": [
    "Comparison2.groupby([\"Birch_y\", \"Birch_x\"]).size()"
   ]
  },
  {
   "cell_type": "code",
   "execution_count": 15,
   "metadata": {},
   "outputs": [
    {
     "data": {
      "text/plain": [
       "Birch_y  Birch_x\n",
       "0        0           32\n",
       "         1           20\n",
       "         2            3\n",
       "         3            3\n",
       "         4            2\n",
       "1        0            1\n",
       "         1            4\n",
       "         3           32\n",
       "         4           14\n",
       "2        0            4\n",
       "         1            3\n",
       "         2           27\n",
       "         3            3\n",
       "         4            2\n",
       "3        2            2\n",
       "         4            4\n",
       "4        0            1\n",
       "         1           16\n",
       "         2           12\n",
       "         3          114\n",
       "         4            2\n",
       "dtype: int64"
      ]
     },
     "execution_count": 15,
     "metadata": {},
     "output_type": "execute_result"
    }
   ],
   "source": [
    "Comparison3.groupby([\"Birch_y\", \"Birch_x\"]).size()"
   ]
  },
  {
   "cell_type": "code",
   "execution_count": 16,
   "metadata": {},
   "outputs": [
    {
     "data": {
      "text/plain": [
       "Birch_y  Birch_x\n",
       "0        0           46\n",
       "         1            2\n",
       "         4           14\n",
       "1        0            8\n",
       "         3            1\n",
       "         4           27\n",
       "2        0            6\n",
       "         1           26\n",
       "         4            7\n",
       "3        2           11\n",
       "         4            3\n",
       "4        0           27\n",
       "         1            7\n",
       "         4          115\n",
       "dtype: int64"
      ]
     },
     "execution_count": 16,
     "metadata": {},
     "output_type": "execute_result"
    }
   ],
   "source": [
    "Comparison4.groupby([\"Birch_y\", \"Birch_x\"]).size()"
   ]
  },
  {
   "cell_type": "code",
   "execution_count": 17,
   "metadata": {},
   "outputs": [
    {
     "data": {
      "text/plain": [
       "Birch_y  Birch_x\n",
       "0        0           15\n",
       "         1           10\n",
       "         2           28\n",
       "1        0           45\n",
       "         1            1\n",
       "         2            1\n",
       "2        0            5\n",
       "         1           31\n",
       "         2            4\n",
       "3        0           10\n",
       "         3            1\n",
       "         4            1\n",
       "4        0          136\n",
       "         1            8\n",
       "         2            4\n",
       "dtype: int64"
      ]
     },
     "execution_count": 17,
     "metadata": {},
     "output_type": "execute_result"
    }
   ],
   "source": [
    "Comparison5.groupby([\"Birch_y\", \"Birch_x\"]).size()"
   ]
  },
  {
   "cell_type": "code",
   "execution_count": 18,
   "metadata": {},
   "outputs": [
    {
     "data": {
      "text/plain": [
       "0.3862801505514706"
      ]
     },
     "execution_count": 18,
     "metadata": {},
     "output_type": "execute_result"
    }
   ],
   "source": [
    "from sklearn import metrics\n",
    "metrics.adjusted_rand_score(Comparison1['Birch_y'], Comparison1['Birch_x'])  "
   ]
  },
  {
   "cell_type": "code",
   "execution_count": 19,
   "metadata": {},
   "outputs": [
    {
     "data": {
      "text/plain": [
       "0.32712170335330065"
      ]
     },
     "execution_count": 19,
     "metadata": {},
     "output_type": "execute_result"
    }
   ],
   "source": [
    "metrics.adjusted_rand_score(Comparison2['Birch_y'], Comparison2['Birch_x'])"
   ]
  },
  {
   "cell_type": "code",
   "execution_count": 20,
   "metadata": {},
   "outputs": [
    {
     "data": {
      "text/plain": [
       "0.38657690739723916"
      ]
     },
     "execution_count": 20,
     "metadata": {},
     "output_type": "execute_result"
    }
   ],
   "source": [
    "metrics.adjusted_rand_score(Comparison3['Birch_y'], Comparison3['Birch_x'])"
   ]
  },
  {
   "cell_type": "code",
   "execution_count": 21,
   "metadata": {},
   "outputs": [
    {
     "data": {
      "text/plain": [
       "0.2926552761565114"
      ]
     },
     "execution_count": 21,
     "metadata": {},
     "output_type": "execute_result"
    }
   ],
   "source": [
    "metrics.adjusted_rand_score(Comparison4['Birch_y'], Comparison4['Birch_x'])"
   ]
  },
  {
   "cell_type": "code",
   "execution_count": 22,
   "metadata": {},
   "outputs": [
    {
     "data": {
      "text/plain": [
       "0.3174426508591269"
      ]
     },
     "execution_count": 22,
     "metadata": {},
     "output_type": "execute_result"
    }
   ],
   "source": [
    "metrics.adjusted_rand_score(Comparison5['Birch_y'], Comparison5['Birch_x'])"
   ]
  },
  {
   "cell_type": "code",
   "execution_count": 23,
   "metadata": {},
   "outputs": [
    {
     "data": {
      "text/plain": [
       "0.4150313431966853"
      ]
     },
     "execution_count": 23,
     "metadata": {},
     "output_type": "execute_result"
    }
   ],
   "source": [
    "from sklearn.metrics.cluster import normalized_mutual_info_score\n",
    "normalized_mutual_info_score(Comparison1['Birch_y'], Comparison1['Birch_x'])"
   ]
  },
  {
   "cell_type": "code",
   "execution_count": 24,
   "metadata": {},
   "outputs": [
    {
     "data": {
      "text/plain": [
       "0.3079377636892493"
      ]
     },
     "execution_count": 24,
     "metadata": {},
     "output_type": "execute_result"
    }
   ],
   "source": [
    "normalized_mutual_info_score(Comparison2['Birch_y'], Comparison2['Birch_x'])"
   ]
  },
  {
   "cell_type": "code",
   "execution_count": 25,
   "metadata": {},
   "outputs": [
    {
     "data": {
      "text/plain": [
       "0.36437872978571534"
      ]
     },
     "execution_count": 25,
     "metadata": {},
     "output_type": "execute_result"
    }
   ],
   "source": [
    "normalized_mutual_info_score(Comparison3['Birch_y'], Comparison3['Birch_x'])"
   ]
  },
  {
   "cell_type": "code",
   "execution_count": 26,
   "metadata": {},
   "outputs": [
    {
     "data": {
      "text/plain": [
       "0.3333980338668492"
      ]
     },
     "execution_count": 26,
     "metadata": {},
     "output_type": "execute_result"
    }
   ],
   "source": [
    "normalized_mutual_info_score(Comparison4['Birch_y'], Comparison4['Birch_x'])"
   ]
  },
  {
   "cell_type": "code",
   "execution_count": 27,
   "metadata": {},
   "outputs": [
    {
     "data": {
      "text/plain": [
       "0.3321485937150062"
      ]
     },
     "execution_count": 27,
     "metadata": {},
     "output_type": "execute_result"
    }
   ],
   "source": [
    "normalized_mutual_info_score(Comparison5['Birch_y'], Comparison5['Birch_x'])"
   ]
  },
  {
   "cell_type": "code",
   "execution_count": null,
   "metadata": {},
   "outputs": [],
   "source": []
  }
 ],
 "metadata": {
  "kernelspec": {
   "display_name": "Python 3",
   "language": "python",
   "name": "python3"
  },
  "language_info": {
   "codemirror_mode": {
    "name": "ipython",
    "version": 3
   },
   "file_extension": ".py",
   "mimetype": "text/x-python",
   "name": "python",
   "nbconvert_exporter": "python",
   "pygments_lexer": "ipython3",
   "version": "3.6.5"
  }
 },
 "nbformat": 4,
 "nbformat_minor": 2
}
